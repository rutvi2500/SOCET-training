{
 "cells": [
  {
   "cell_type": "markdown",
   "id": "0dad99f8",
   "metadata": {},
   "source": [
    "## 31/05/21"
   ]
  },
  {
   "cell_type": "code",
   "execution_count": 8,
   "id": "1fddd381",
   "metadata": {},
   "outputs": [
    {
     "name": "stdout",
     "output_type": "stream",
     "text": [
      "[1, 1, 'innovation', 'innoventa', 'softvan', 45, 45.5, True]\n",
      "1\n",
      "[1, 1]\n",
      "True\n",
      "45.5\n",
      "[1, 1, 'innovation', 'innoventa', 'softvan', 45, 45.5, True]\n",
      "[1, 1, 'innovation', 'innoventa', 'softvan', 60, 45.5, True]\n",
      "<class 'list'>\n"
     ]
    }
   ],
   "source": [
    "## List\n",
    "\n",
    "ls=[1,1,\"innovation\",\"innoventa\",'softvan',45,45.5,True]\n",
    "print(ls)\n",
    "print(ls[0])\n",
    "print(ls[0:2])\n",
    "print(ls[-1])    #it will print last element of the list\n",
    "print(ls[-2])\n",
    "print(ls[0:])    #it will fetch all the elements\n",
    "ls[5]=60\n",
    "print(ls)\n",
    "print(type(ls))    #it will show the type\n"
   ]
  },
  {
   "cell_type": "code",
   "execution_count": 9,
   "id": "eb2a76de",
   "metadata": {},
   "outputs": [
    {
     "name": "stdout",
     "output_type": "stream",
     "text": [
      "(1, 1, 'innovation', 'innoventa', 'softvan', 45, 45.5, True)\n",
      "1\n",
      "(1, 1)\n",
      "True\n",
      "45.5\n",
      "(1, 1, 'innovation', 'innoventa', 'softvan', 45, 45.5, True)\n"
     ]
    },
    {
     "ename": "TypeError",
     "evalue": "'tuple' object does not support item assignment",
     "output_type": "error",
     "traceback": [
      "\u001b[1;31m---------------------------------------------------------------------------\u001b[0m",
      "\u001b[1;31mTypeError\u001b[0m                                 Traceback (most recent call last)",
      "\u001b[1;32m<ipython-input-9-ac512e3a636d>\u001b[0m in \u001b[0;36m<module>\u001b[1;34m\u001b[0m\n\u001b[0;32m      9\u001b[0m \u001b[0mprint\u001b[0m\u001b[1;33m(\u001b[0m\u001b[0mt\u001b[0m\u001b[1;33m[\u001b[0m\u001b[1;33m-\u001b[0m\u001b[1;36m2\u001b[0m\u001b[1;33m]\u001b[0m\u001b[1;33m)\u001b[0m\u001b[1;33m\u001b[0m\u001b[1;33m\u001b[0m\u001b[0m\n\u001b[0;32m     10\u001b[0m \u001b[0mprint\u001b[0m\u001b[1;33m(\u001b[0m\u001b[0mt\u001b[0m\u001b[1;33m[\u001b[0m\u001b[1;36m0\u001b[0m\u001b[1;33m:\u001b[0m\u001b[1;33m]\u001b[0m\u001b[1;33m)\u001b[0m    \u001b[1;31m#it will fetch all the elements\u001b[0m\u001b[1;33m\u001b[0m\u001b[1;33m\u001b[0m\u001b[0m\n\u001b[1;32m---> 11\u001b[1;33m \u001b[0mt\u001b[0m\u001b[1;33m[\u001b[0m\u001b[1;36m5\u001b[0m\u001b[1;33m]\u001b[0m\u001b[1;33m=\u001b[0m\u001b[1;36m60\u001b[0m\u001b[1;33m\u001b[0m\u001b[1;33m\u001b[0m\u001b[0m\n\u001b[0m\u001b[0;32m     12\u001b[0m \u001b[0mprint\u001b[0m\u001b[1;33m(\u001b[0m\u001b[0mt\u001b[0m\u001b[1;33m)\u001b[0m\u001b[1;33m\u001b[0m\u001b[1;33m\u001b[0m\u001b[0m\n\u001b[0;32m     13\u001b[0m \u001b[0mprint\u001b[0m\u001b[1;33m(\u001b[0m\u001b[0mtype\u001b[0m\u001b[1;33m(\u001b[0m\u001b[0mt\u001b[0m\u001b[1;33m)\u001b[0m\u001b[1;33m)\u001b[0m    \u001b[1;31m#it will show the type\u001b[0m\u001b[1;33m\u001b[0m\u001b[1;33m\u001b[0m\u001b[0m\n",
      "\u001b[1;31mTypeError\u001b[0m: 'tuple' object does not support item assignment"
     ]
    }
   ],
   "source": [
    "# Tuples\n",
    "\n",
    "t=()\n",
    "t=(1,1,\"innovation\",\"innoventa\",'softvan',45,45.5,True)\n",
    "print(t)\n",
    "print(t[0])\n",
    "print(t[0:2])\n",
    "print(t[-1])    #it will print last element of the list\n",
    "print(t[-2])\n",
    "print(t[0:])    #it will fetch all the elements\n",
    "t[5]=60        # Tupples are unchangable\n",
    "print(t)\n",
    "print(type(t))    #it will show the type"
   ]
  },
  {
   "cell_type": "code",
   "execution_count": 13,
   "id": "84f0f05a",
   "metadata": {},
   "outputs": [
    {
     "name": "stdout",
     "output_type": "stream",
     "text": [
      "{'innovation', 1, 'innoventa', 45, 45.5, 'softvan'}\n",
      "{'innovation', 1, 'innoventa', 45, 45.5, 60}\n",
      "<class 'set'>\n"
     ]
    },
    {
     "ename": "TypeError",
     "evalue": "'set' object is not subscriptable",
     "output_type": "error",
     "traceback": [
      "\u001b[1;31m---------------------------------------------------------------------------\u001b[0m",
      "\u001b[1;31mTypeError\u001b[0m                                 Traceback (most recent call last)",
      "\u001b[1;32m<ipython-input-13-800c1e49c8d9>\u001b[0m in \u001b[0;36m<module>\u001b[1;34m\u001b[0m\n\u001b[0;32m      7\u001b[0m \u001b[0mprint\u001b[0m\u001b[1;33m(\u001b[0m\u001b[0ms\u001b[0m\u001b[1;33m)\u001b[0m\u001b[1;33m\u001b[0m\u001b[1;33m\u001b[0m\u001b[0m\n\u001b[0;32m      8\u001b[0m \u001b[0mprint\u001b[0m\u001b[1;33m(\u001b[0m\u001b[0mtype\u001b[0m\u001b[1;33m(\u001b[0m\u001b[0ms\u001b[0m\u001b[1;33m)\u001b[0m\u001b[1;33m)\u001b[0m    \u001b[1;31m#it will show the type\u001b[0m\u001b[1;33m\u001b[0m\u001b[1;33m\u001b[0m\u001b[0m\n\u001b[1;32m----> 9\u001b[1;33m \u001b[0mprint\u001b[0m\u001b[1;33m(\u001b[0m\u001b[0ms\u001b[0m\u001b[1;33m[\u001b[0m\u001b[1;36m0\u001b[0m\u001b[1;33m]\u001b[0m\u001b[1;33m)\u001b[0m    \u001b[1;31m#doesn't support indexing\u001b[0m\u001b[1;33m\u001b[0m\u001b[1;33m\u001b[0m\u001b[0m\n\u001b[0m",
      "\u001b[1;31mTypeError\u001b[0m: 'set' object is not subscriptable"
     ]
    }
   ],
   "source": [
    "# Set\n",
    "\n",
    "s={1,1,\"innovation\",\"innoventa\",'softvan',45,45.5,True}\n",
    "print(s)\n",
    "s.add(60)                  #item can be added or removed but can't be updated\n",
    "s.remove(\"softvan\")\n",
    "print(s)\n",
    "print(type(s))    #it will show the type\n",
    "print(s[0])    #doesn't support indexing"
   ]
  },
  {
   "cell_type": "code",
   "execution_count": 15,
   "id": "de153d68",
   "metadata": {},
   "outputs": [
    {
     "name": "stdout",
     "output_type": "stream",
     "text": [
      "{'Key': 'value', 'name': 'softvan', 'marks': 99, 1: 'softvan', 3.5: 98.3}\n",
      "softvan\n",
      "softvan\n",
      "{'Key': 'value', 'name': 'softvan', 'marks': 99, 1: 'softvan', 3.5: 100}\n",
      "<class 'dict'>\n"
     ]
    }
   ],
   "source": [
    "# Dictionary\n",
    "\n",
    "d={'Key':'value','name':'softvan',\"marks\":99,1:\"softvan\",3.5:98.3}\n",
    "print(d)\n",
    "print(d['name'])    #supports indexing\n",
    "print(d[1])\n",
    "d[3.5]=100\n",
    "print(d)\n",
    "print(type(d))    #it will show the type\n"
   ]
  },
  {
   "cell_type": "code",
   "execution_count": null,
   "id": "956f5639",
   "metadata": {},
   "outputs": [],
   "source": []
  },
  {
   "cell_type": "code",
   "execution_count": null,
   "id": "4d769a96",
   "metadata": {},
   "outputs": [],
   "source": []
  },
  {
   "cell_type": "code",
   "execution_count": null,
   "id": "de2c7936",
   "metadata": {},
   "outputs": [],
   "source": []
  },
  {
   "cell_type": "code",
   "execution_count": null,
   "id": "4e8a9f1c",
   "metadata": {},
   "outputs": [],
   "source": []
  }
 ],
 "metadata": {
  "kernelspec": {
   "display_name": "Python 3",
   "language": "python",
   "name": "python3"
  },
  "language_info": {
   "codemirror_mode": {
    "name": "ipython",
    "version": 3
   },
   "file_extension": ".py",
   "mimetype": "text/x-python",
   "name": "python",
   "nbconvert_exporter": "python",
   "pygments_lexer": "ipython3",
   "version": "3.8.8"
  }
 },
 "nbformat": 4,
 "nbformat_minor": 5
}
