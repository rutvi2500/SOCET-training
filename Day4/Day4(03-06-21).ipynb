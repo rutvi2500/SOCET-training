{
 "cells": [
  {
   "cell_type": "markdown",
   "id": "29bd92cd",
   "metadata": {},
   "source": [
    "## 03/06/21\n",
    "\n",
    "### File I/O"
   ]
  },
  {
   "cell_type": "code",
   "execution_count": 3,
   "id": "30bbcfb7",
   "metadata": {},
   "outputs": [],
   "source": [
    "# write in a file\n",
    "\n",
    "file_object=open(\"softvan.txt\",\"w\")\n",
    "file_object.write(\"Core Python is a programming language.\\nIt's a great to learn.\")\n",
    "file_object.close()"
   ]
  },
  {
   "cell_type": "code",
   "execution_count": 4,
   "id": "016cc186",
   "metadata": {},
   "outputs": [
    {
     "name": "stdout",
     "output_type": "stream",
     "text": [
      "data= Core Python is a programming language.\n",
      "It's a great to learn.\n",
      "position= 62\n"
     ]
    }
   ],
   "source": [
    "# read a file\n",
    "\n",
    "file_object=open(\"softvan.txt\",\"r+\")\n",
    "data=file_object.read()\n",
    "print(\"data=\",data)\n",
    "position=file_object.tell()\n",
    "print(\"position=\",position)"
   ]
  },
  {
   "cell_type": "code",
   "execution_count": 6,
   "id": "6f54cf9c",
   "metadata": {},
   "outputs": [
    {
     "name": "stdout",
     "output_type": "stream",
     "text": [
      "data= Core Python is a programming language.\n",
      "It's a great to learn.\n",
      "position= 62\n"
     ]
    }
   ],
   "source": [
    "#reposition pointer\n",
    "\n",
    "file_object.seek(0,0)\n",
    "data=file_object.read()\n",
    "print(\"data=\",data)\n",
    "position=file_object.tell()\n",
    "print(\"position=\",position)\n",
    "file_object.close()"
   ]
  },
  {
   "cell_type": "code",
   "execution_count": null,
   "id": "81afbba1",
   "metadata": {},
   "outputs": [],
   "source": []
  },
  {
   "cell_type": "code",
   "execution_count": null,
   "id": "0fb84314",
   "metadata": {},
   "outputs": [],
   "source": []
  },
  {
   "cell_type": "code",
   "execution_count": null,
   "id": "c0337c0b",
   "metadata": {},
   "outputs": [],
   "source": []
  },
  {
   "cell_type": "code",
   "execution_count": null,
   "id": "d8f2cdbf",
   "metadata": {},
   "outputs": [],
   "source": []
  }
 ],
 "metadata": {
  "kernelspec": {
   "display_name": "Python 3",
   "language": "python",
   "name": "python3"
  },
  "language_info": {
   "codemirror_mode": {
    "name": "ipython",
    "version": 3
   },
   "file_extension": ".py",
   "mimetype": "text/x-python",
   "name": "python",
   "nbconvert_exporter": "python",
   "pygments_lexer": "ipython3",
   "version": "3.8.8"
  }
 },
 "nbformat": 4,
 "nbformat_minor": 5
}
