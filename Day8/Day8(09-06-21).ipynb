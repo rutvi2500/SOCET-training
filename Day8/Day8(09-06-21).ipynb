{
 "cells": [
  {
   "cell_type": "markdown",
   "id": "9ba50cf0",
   "metadata": {},
   "source": [
    "### 09/06/21\n",
    "\n",
    "### Encapsulation"
   ]
  },
  {
   "cell_type": "code",
   "execution_count": 4,
   "id": "96eb7601",
   "metadata": {},
   "outputs": [
    {
     "name": "stdout",
     "output_type": "stream",
     "text": [
      "500\n",
      "500\n",
      "1500\n"
     ]
    }
   ],
   "source": [
    "\"\"\"\n",
    "__ can't access variable outside the class\n",
    "   via it's object directly\n",
    "\n",
    "_ it's use for naming convention purpose\n",
    "  for inheritance\n",
    "  (python name mangling)\n",
    "\"\"\"\n",
    "\n",
    "# __ => partially private variable\n",
    "\n",
    "class Product:\n",
    "    def __init__(self):\n",
    "        self.__maxPrice = 500\n",
    "\n",
    "    def sell(self):\n",
    "        print(self.__maxPrice)\n",
    "\n",
    "    def setMaxPrice(self, price):\n",
    "        self.__maxPrice = price\n",
    "\n",
    "\n",
    "c = Product()\n",
    "c.sell()\n",
    "\n",
    "c.__maxPrice = 1500\n",
    "c.sell()\n",
    "\n",
    "c.setMaxPrice(1500)\n",
    "c.sell()"
   ]
  },
  {
   "cell_type": "markdown",
   "id": "98c6a522",
   "metadata": {},
   "source": [
    "### Polymorphism"
   ]
  },
  {
   "cell_type": "code",
   "execution_count": 5,
   "id": "8a6e73e6",
   "metadata": {},
   "outputs": [
    {
     "name": "stdout",
     "output_type": "stream",
     "text": [
      "Axis Bank Monthly Card Transaction Limit is 3\n",
      "Axis Bank Rate Of interest is 5.5%\n",
      "HDFC Bank Monthly Card Transaction Limit is 5\n",
      "HDFC Bank Rate Of interest is 4.5%\n"
     ]
    }
   ],
   "source": [
    "class Axis:\n",
    "    def transaction(self):\n",
    "        print(\"Axis Bank Monthly Card Transaction Limit is 3\")\n",
    "\n",
    "    def rate_of_interest(self):\n",
    "        print(\"Axis Bank Rate Of interest is 5.5%\")\n",
    "\n",
    "\n",
    "class HDFC:\n",
    "    def transaction(self):\n",
    "        print(\"HDFC Bank Monthly Card Transaction Limit is 5\")\n",
    "\n",
    "    def rate_of_interest(self):\n",
    "        print(\"HDFC Bank Rate Of interest is 4.5%\")\n",
    "\n",
    "\n",
    "def atm(bank_object):\n",
    "    bank_object.transaction()\n",
    "    bank_object.rate_of_interest()\n",
    "\n",
    "\n",
    "axis_object = Axis()\n",
    "hdfc_obejct = HDFC()\n",
    "\n",
    "atm(axis_object)\n",
    "atm(hdfc_obejct)"
   ]
  },
  {
   "cell_type": "code",
   "execution_count": 6,
   "id": "87915bd0",
   "metadata": {},
   "outputs": [
    {
     "name": "stdout",
     "output_type": "stream",
     "text": [
      "Enter 1 for HDFC and 2 for AXIS1\n"
     ]
    },
    {
     "ename": "AttributeError",
     "evalue": "'HDFC' object has no attribute '_ATM__max'",
     "output_type": "error",
     "traceback": [
      "\u001b[1;31m---------------------------------------------------------------------------\u001b[0m",
      "\u001b[1;31mAttributeError\u001b[0m                            Traceback (most recent call last)",
      "\u001b[1;32m<ipython-input-6-7dd96ba68a36>\u001b[0m in \u001b[0;36m<module>\u001b[1;34m\u001b[0m\n\u001b[0;32m     80\u001b[0m \u001b[1;32mif\u001b[0m \u001b[0min1\u001b[0m\u001b[1;33m==\u001b[0m\u001b[1;34m\"1\"\u001b[0m\u001b[1;33m:\u001b[0m\u001b[1;33m\u001b[0m\u001b[1;33m\u001b[0m\u001b[0m\n\u001b[0;32m     81\u001b[0m     \u001b[0ma\u001b[0m\u001b[1;33m=\u001b[0m\u001b[0mATM\u001b[0m\u001b[1;33m(\u001b[0m\u001b[1;33m)\u001b[0m\u001b[1;33m\u001b[0m\u001b[1;33m\u001b[0m\u001b[0m\n\u001b[1;32m---> 82\u001b[1;33m     \u001b[0ma\u001b[0m\u001b[1;33m.\u001b[0m\u001b[0mvalidate\u001b[0m\u001b[1;33m(\u001b[0m\u001b[0mhdfc\u001b[0m\u001b[1;33m)\u001b[0m\u001b[1;33m\u001b[0m\u001b[1;33m\u001b[0m\u001b[0m\n\u001b[0m\u001b[0;32m     83\u001b[0m \u001b[1;32melif\u001b[0m \u001b[0min1\u001b[0m\u001b[1;33m==\u001b[0m\u001b[1;34m\"2\"\u001b[0m\u001b[1;33m:\u001b[0m\u001b[1;33m\u001b[0m\u001b[1;33m\u001b[0m\u001b[0m\n\u001b[0;32m     84\u001b[0m     \u001b[0ma\u001b[0m\u001b[1;33m=\u001b[0m\u001b[0mATM\u001b[0m\u001b[1;33m(\u001b[0m\u001b[1;33m)\u001b[0m\u001b[1;33m\u001b[0m\u001b[1;33m\u001b[0m\u001b[0m\n",
      "\u001b[1;32m<ipython-input-6-7dd96ba68a36>\u001b[0m in \u001b[0;36mvalidate\u001b[1;34m(self, bankobject)\u001b[0m\n\u001b[0;32m     51\u001b[0m     \u001b[1;32mdef\u001b[0m \u001b[0mvalidate\u001b[0m\u001b[1;33m(\u001b[0m\u001b[0mself\u001b[0m\u001b[1;33m,\u001b[0m\u001b[0mbankobject\u001b[0m\u001b[1;33m)\u001b[0m\u001b[1;33m:\u001b[0m\u001b[1;33m\u001b[0m\u001b[1;33m\u001b[0m\u001b[0m\n\u001b[0;32m     52\u001b[0m         \u001b[0mtran\u001b[0m\u001b[1;33m=\u001b[0m\u001b[1;36m0\u001b[0m\u001b[1;33m\u001b[0m\u001b[1;33m\u001b[0m\u001b[0m\n\u001b[1;32m---> 53\u001b[1;33m         \u001b[0mlamount\u001b[0m\u001b[1;33m=\u001b[0m\u001b[0mint\u001b[0m\u001b[1;33m(\u001b[0m\u001b[0mbankobject\u001b[0m\u001b[1;33m.\u001b[0m\u001b[0m__max\u001b[0m\u001b[1;33m(\u001b[0m\u001b[1;33m)\u001b[0m\u001b[1;33m)\u001b[0m\u001b[1;33m\u001b[0m\u001b[1;33m\u001b[0m\u001b[0m\n\u001b[0m\u001b[0;32m     54\u001b[0m         \u001b[0mprint\u001b[0m\u001b[1;33m(\u001b[0m\u001b[1;34mf\"Available balance: {lamount}\"\u001b[0m\u001b[1;33m)\u001b[0m\u001b[1;33m\u001b[0m\u001b[1;33m\u001b[0m\u001b[0m\n\u001b[0;32m     55\u001b[0m         \u001b[0mchoice\u001b[0m\u001b[1;33m=\u001b[0m\u001b[1;34m\"y\"\u001b[0m\u001b[1;33m\u001b[0m\u001b[1;33m\u001b[0m\u001b[0m\n",
      "\u001b[1;31mAttributeError\u001b[0m: 'HDFC' object has no attribute '_ATM__max'"
     ]
    }
   ],
   "source": [
    "\"\"\"\n",
    "HDFCBank->withdraw()\n",
    "\t->total max transaction  limit-3\n",
    "\t->total max amount limit-20,000\n",
    "AXISBank->withdraw()\n",
    "\t->total max transaction limit-5\n",
    "\t->total max amount limit-30,000\n",
    "(ATM Class)=>Main Class\n",
    "1)user input choice for bank name\n",
    "2)user input amount to withdraw\n",
    "    ATM->inputAmount()=>Function\n",
    "3)validate input amount limit->\n",
    "   custom exception message(Max limit exceeded)\n",
    "4)validate the max transaction limit->\n",
    "    custom exception message(Max limit exceeded)\n",
    "5)update the max amount limit and max transaction limit\n",
    " for successful transaction and print message also\n",
    "6)Ask user for next transaction: yes/no\n",
    "\tif yes:\n",
    "\t\tcontiue with sequence no (2)\n",
    "\tif no:\n",
    "\t    terminate the program\n",
    "NOTE:\n",
    "1)Terminate only when transaction max limit exceeded or\n",
    "  amount max limit exceeded or\n",
    "  user give no input for next transaction\n",
    "2)mandatory to achieve encapsulation(__) and\n",
    "  polymorphism(withdraw()) in program.\n",
    "\"\"\"\n",
    "global __maxt\n",
    "global __max\n",
    "__maxt=0\n",
    "__max=0\n",
    "class HDFC:\n",
    "    def trans(self):\n",
    "        __maxt=3\n",
    "        print(\"Maximum transaction= \", __maxt)\n",
    "    def amount(self):\n",
    "        __max=20000\n",
    "        print(\"Your account has Rs.\", __max)\n",
    "\n",
    "class AXIS:\n",
    "    def trans(self):\n",
    "        __maxt=5\n",
    "        print(\"Maximum transaction= \", __maxt)\n",
    "    def amount(self):\n",
    "        __max=30000\n",
    "        print(\"Your account has Rs.\", __max)\n",
    "\n",
    "class ATM:\n",
    "    def validate(self,bankobject):\n",
    "        tran=0\n",
    "        lamount=int(bankobject.__max())\n",
    "        print(f\"Available balance: {lamount}\")\n",
    "        choice=\"y\"\n",
    "        while choice==\"y\":\n",
    "            self.amount=input(\"Enter the amount to withdraw: \")\n",
    "            wamount=int(self.amount)\n",
    "            while int(tran)<int(bankobject.__maxt):\n",
    "                if wamount>0:\n",
    "                    if int(self.amount)<int(bankobject.__maxt):\n",
    "                        lamount-=wamount\n",
    "                    else:\n",
    "                        print(\"Exceeded transaction limit\")\n",
    "                        quit()\n",
    "                tran+=1\n",
    "                print(f\"Remaining amount: {lamount} Withdrawal amount: {wamount}\")\n",
    "                if tran == int(bankobject.__maxt()):\n",
    "                    print(\"Transaction Limit Exceeded\")\n",
    "                    quit()\n",
    "                break\n",
    "                print(tran)\n",
    "\n",
    "            choice=input(\"Y/N\").lower()\n",
    "\n",
    "hdfc=HDFC()\n",
    "axis=AXIS()\n",
    "\n",
    "in1=input(\"Enter 1 for HDFC and 2 for AXIS\")\n",
    "if in1==\"1\":\n",
    "    a=ATM()\n",
    "    a.validate(hdfc)\n",
    "elif in1==\"2\":\n",
    "    a=ATM()\n",
    "    a.validate(axis)\n",
    "else:\n",
    "    quit()\n",
    "\n",
    "\n",
    "\n",
    "\n",
    "a=ATM()\n"
   ]
  }
 ],
 "metadata": {
  "kernelspec": {
   "display_name": "Python 3",
   "language": "python",
   "name": "python3"
  },
  "language_info": {
   "codemirror_mode": {
    "name": "ipython",
    "version": 3
   },
   "file_extension": ".py",
   "mimetype": "text/x-python",
   "name": "python",
   "nbconvert_exporter": "python",
   "pygments_lexer": "ipython3",
   "version": "3.8.8"
  }
 },
 "nbformat": 4,
 "nbformat_minor": 5
}
