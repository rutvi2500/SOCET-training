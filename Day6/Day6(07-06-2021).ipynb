{
 "cells": [
  {
   "cell_type": "code",
   "execution_count": 7,
   "id": "b1b9f045",
   "metadata": {},
   "outputs": [
    {
     "name": "stdout",
     "output_type": "stream",
     "text": [
      "firstname- Rutvi lastname-Patel\n",
      "firstname- abc lastname-xyz\n",
      "payment of employee1:  10000\n",
      "payment of employee after hike: 10500\n"
     ]
    }
   ],
   "source": [
    "class Employee:\n",
    "    increment_value=1.05\n",
    "    \n",
    "    #constructor types\n",
    "        #default\n",
    "        #parameterized\n",
    "    def __init__(self, first, last, payment):\n",
    "        self.first=first\n",
    "        self.last=last\n",
    "        self.payment=payment\n",
    "        self.email=first+\".\"+last+\"@gmail.com\"\n",
    "        \n",
    "    def fullname(self):\n",
    "        print('firstname- {} lastname-{}'.format(self.first, self.last))\n",
    "        \n",
    "    def hike_payment(self):\n",
    "        self.payment=int(self.payment*self.increment_value)\n",
    "        \n",
    "emp_1 = Employee(\"Rutvi\",\"Patel\",10000)\n",
    "emp_2 = Employee(\"abc\",\"xyz\",20000)\n",
    "        \n",
    "emp_1.fullname()\n",
    "emp_2.fullname()\n",
    "\n",
    "print(\"payment of employee1: \",emp_1.payment)\n",
    "\n",
    "emp_1.hike_payment()\n",
    "\n",
    "print(\"payment of employee after hike:\",emp_1.payment)"
   ]
  },
  {
   "cell_type": "code",
   "execution_count": null,
   "id": "f9448e0a",
   "metadata": {},
   "outputs": [],
   "source": [
    "    "
   ]
  },
  {
   "cell_type": "code",
   "execution_count": null,
   "id": "98077299",
   "metadata": {},
   "outputs": [],
   "source": []
  }
 ],
 "metadata": {
  "kernelspec": {
   "display_name": "Python 3",
   "language": "python",
   "name": "python3"
  },
  "language_info": {
   "codemirror_mode": {
    "name": "ipython",
    "version": 3
   },
   "file_extension": ".py",
   "mimetype": "text/x-python",
   "name": "python",
   "nbconvert_exporter": "python",
   "pygments_lexer": "ipython3",
   "version": "3.8.8"
  }
 },
 "nbformat": 4,
 "nbformat_minor": 5
}
