{
 "cells": [
  {
   "cell_type": "markdown",
   "id": "cf16096b",
   "metadata": {},
   "source": [
    "### 08-06-2021\n",
    "\n",
    "### Inheritance"
   ]
  },
  {
   "cell_type": "code",
   "execution_count": 1,
   "id": "c08c0480",
   "metadata": {},
   "outputs": [
    {
     "name": "stdout",
     "output_type": "stream",
     "text": [
      "array feature...\n",
      "array feature...\n",
      "inheritance feature...\n",
      "array feature...\n",
      "array feature...\n",
      "inheritance feature...\n",
      "variable length arguments...\n"
     ]
    }
   ],
   "source": [
    "# Multilevel\n",
    "\n",
    "class CLanguage:\n",
    "    def array(self):\n",
    "        print('array feature...')\n",
    "\n",
    "\n",
    "class CPlusPlus(CLanguage):\n",
    "    def inheritance(self):\n",
    "        self.array()\n",
    "        print('inheritance feature...')\n",
    "\n",
    "\n",
    "class Python(CPlusPlus):\n",
    "    def variable_length(self):\n",
    "        self.array()\n",
    "        self.inheritance()\n",
    "        print('variable length arguments...')\n",
    "\n",
    "\n",
    "d = Python()\n",
    "d.array()\n",
    "d.inheritance()\n",
    "d.variable_length()"
   ]
  },
  {
   "cell_type": "code",
   "execution_count": 2,
   "id": "f74efb5e",
   "metadata": {},
   "outputs": [
    {
     "name": "stdout",
     "output_type": "stream",
     "text": [
      "procedure oriented...\n",
      "object oriented...\n",
      "procedure oriented...\n",
      "object oriented...\n",
      "interpreted...\n"
     ]
    }
   ],
   "source": [
    "# Multiple Inheritance\n",
    "\n",
    "class CLanguage:\n",
    "    def pop(self):\n",
    "        print('procedure oriented...')\n",
    "\n",
    "\n",
    "class CPlusPlus:\n",
    "    def oop(self):\n",
    "        print('object oriented...')\n",
    "\n",
    "\n",
    "class Python(CLanguage, CPlusPlus):\n",
    "    def interpreted(self):\n",
    "        self.pop()\n",
    "        self.oop()\n",
    "        print('interpreted...')\n",
    "\n",
    "\n",
    "d = Python()\n",
    "d.pop()\n",
    "d.oop()\n",
    "d.interpreted()\n"
   ]
  },
  {
   "cell_type": "code",
   "execution_count": 3,
   "id": "e1e7ad74",
   "metadata": {},
   "outputs": [
    {
     "name": "stdout",
     "output_type": "stream",
     "text": [
      "crawling\n",
      "walking\n",
      "walking\n"
     ]
    }
   ],
   "source": [
    "class Parent:\n",
    "    def walk(self):\n",
    "        print('walking')\n",
    "\n",
    "\n",
    "class Child(Parent):\n",
    "    def crawl(self):\n",
    "        print('crawling')\n",
    "        self.walk()\n",
    "\n",
    "\n",
    "d = Child()\n",
    "d.crawl()\n",
    "d.walk()"
   ]
  },
  {
   "cell_type": "code",
   "execution_count": 4,
   "id": "ee906022",
   "metadata": {},
   "outputs": [
    {
     "name": "stdout",
     "output_type": "stream",
     "text": [
      "Python\n",
      "array feature...\n"
     ]
    }
   ],
   "source": [
    "class CLanguage:\n",
    "    def array(self):\n",
    "        print(\"CLanguage\")\n",
    "        print('array feature...')\n",
    "\n",
    "\n",
    "class CPlusPlus:\n",
    "    def array(self):\n",
    "        print(\"CPlusPlus\")\n",
    "        print('array feature...')\n",
    "\n",
    "\n",
    "class Python(CLanguage, CPlusPlus):\n",
    "    def array(self):\n",
    "        print(\"Python\")\n",
    "        print('array feature...')\n",
    "\n",
    "\n",
    "d = Python()\n",
    "d.array()"
   ]
  },
  {
   "cell_type": "code",
   "execution_count": 5,
   "id": "30468447",
   "metadata": {},
   "outputs": [
    {
     "name": "stdout",
     "output_type": "stream",
     "text": [
      "array feature...\n",
      "object oriented...\n",
      "array feature...\n"
     ]
    }
   ],
   "source": [
    "class CLanguage:\n",
    "    def array(self):\n",
    "        print('array feature...')\n",
    "\n",
    "\n",
    "class CPlusPlus(CLanguage):\n",
    "    def oop(self):\n",
    "        CLanguage.array(self)\n",
    "        print('object oriented...')\n",
    "\n",
    "\n",
    "d = CPlusPlus()\n",
    "d.oop()\n",
    "CLanguage.array(d)"
   ]
  }
 ],
 "metadata": {
  "kernelspec": {
   "display_name": "Python 3",
   "language": "python",
   "name": "python3"
  },
  "language_info": {
   "codemirror_mode": {
    "name": "ipython",
    "version": 3
   },
   "file_extension": ".py",
   "mimetype": "text/x-python",
   "name": "python",
   "nbconvert_exporter": "python",
   "pygments_lexer": "ipython3",
   "version": "3.8.8"
  }
 },
 "nbformat": 4,
 "nbformat_minor": 5
}
