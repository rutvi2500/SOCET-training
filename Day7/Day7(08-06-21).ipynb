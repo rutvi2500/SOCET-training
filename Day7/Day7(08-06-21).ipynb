{
 "cells": [
  {
   "cell_type": "markdown",
   "id": "cf16096b",
   "metadata": {},
   "source": [
    "### 08-06-2021\n",
    "\n",
    "### Inheritance"
   ]
  },
  {
   "cell_type": "code",
   "execution_count": 1,
   "id": "c08c0480",
   "metadata": {},
   "outputs": [
    {
     "name": "stdout",
     "output_type": "stream",
     "text": [
      "array feature...\n",
      "array feature...\n",
      "inheritance feature...\n",
      "array feature...\n",
      "array feature...\n",
      "inheritance feature...\n",
      "variable length arguments...\n"
     ]
    }
   ],
   "source": [
    "# Multilevel\n",
    "\n",
    "class CLanguage:\n",
    "    def array(self):\n",
    "        print('array feature...')\n",
    "\n",
    "\n",
    "class CPlusPlus(CLanguage):\n",
    "    def inheritance(self):\n",
    "        self.array()\n",
    "        print('inheritance feature...')\n",
    "\n",
    "\n",
    "class Python(CPlusPlus):\n",
    "    def variable_length(self):\n",
    "        self.array()\n",
    "        self.inheritance()\n",
    "        print('variable length arguments...')\n",
    "\n",
    "\n",
    "d = Python()\n",
    "d.array()\n",
    "d.inheritance()\n",
    "d.variable_length()"
   ]
  },
  {
   "cell_type": "code",
   "execution_count": 2,
   "id": "f74efb5e",
   "metadata": {},
   "outputs": [
    {
     "name": "stdout",
     "output_type": "stream",
     "text": [
      "procedure oriented...\n",
      "object oriented...\n",
      "procedure oriented...\n",
      "object oriented...\n",
      "interpreted...\n"
     ]
    }
   ],
   "source": [
    "# Multiple Inheritance\n",
    "\n",
    "class CLanguage:\n",
    "    def pop(self):\n",
    "        print('procedure oriented...')\n",
    "\n",
    "\n",
    "class CPlusPlus:\n",
    "    def oop(self):\n",
    "        print('object oriented...')\n",
    "\n",
    "\n",
    "class Python(CLanguage, CPlusPlus):\n",
    "    def interpreted(self):\n",
    "        self.pop()\n",
    "        self.oop()\n",
    "        print('interpreted...')\n",
    "\n",
    "\n",
    "d = Python()\n",
    "d.pop()\n",
    "d.oop()\n",
    "d.interpreted()\n"
   ]
  },
  {
   "cell_type": "code",
   "execution_count": 3,
   "id": "e1e7ad74",
   "metadata": {},
   "outputs": [
    {
     "name": "stdout",
     "output_type": "stream",
     "text": [
      "crawling\n",
      "walking\n",
      "walking\n"
     ]
    }
   ],
   "source": [
    "class Parent:\n",
    "    def walk(self):\n",
    "        print('walking')\n",
    "\n",
    "\n",
    "class Child(Parent):\n",
    "    def crawl(self):\n",
    "        print('crawling')\n",
    "        self.walk()\n",
    "\n",
    "\n",
    "d = Child()\n",
    "d.crawl()\n",
    "d.walk()"
   ]
  },
  {
   "cell_type": "code",
   "execution_count": 4,
   "id": "4b3cef63",
   "metadata": {},
   "outputs": [
    {
     "name": "stdout",
     "output_type": "stream",
     "text": [
      "Python\n",
      "array feature...\n"
     ]
    }
   ],
   "source": [
    "class CLanguage:\n",
    "    def array(self):\n",
    "        print(\"CLanguage\")\n",
    "        print('array feature...')\n",
    "\n",
    "\n",
    "class CPlusPlus:\n",
    "    def array(self):\n",
    "        print(\"CPlusPlus\")\n",
    "        print('array feature...')\n",
    "\n",
    "\n",
    "class Python(CLanguage, CPlusPlus):\n",
    "    def array(self):\n",
    "        print(\"Python\")\n",
    "        print('array feature...')\n",
    "\n",
    "\n",
    "d = Python()\n",
    "d.array()"
   ]
  },
  {
   "cell_type": "code",
   "execution_count": 5,
   "id": "58ebe5b9",
   "metadata": {},
   "outputs": [
    {
     "name": "stdout",
     "output_type": "stream",
     "text": [
      "array feature...\n",
      "object oriented...\n",
      "array feature...\n"
     ]
    }
   ],
   "source": [
    "class CLanguage:\n",
    "    def array(self):\n",
    "        print('array feature...')\n",
    "\n",
    "\n",
    "class CPlusPlus(CLanguage):\n",
    "    def oop(self):\n",
    "        CLanguage.array(self)\n",
    "        print('object oriented...')\n",
    "\n",
    "\n",
    "d = CPlusPlus()\n",
    "d.oop()\n",
    "CLanguage.array(d)"
   ]
  },
  {
   "cell_type": "markdown",
   "id": "4eab77b4",
   "metadata": {},
   "source": [
    "### Exception Handling"
   ]
  },
  {
   "cell_type": "code",
   "execution_count": 1,
   "id": "5f6c0002",
   "metadata": {},
   "outputs": [
    {
     "name": "stdout",
     "output_type": "stream",
     "text": [
      "Enter a number: 10\n",
      "Congratulations! You guessed it correctly.\n"
     ]
    }
   ],
   "source": [
    "# define Python user-defined exceptions\n",
    "\n",
    "# hybrid=>Single+Heirarchical\n",
    "class Error(Exception):  # single\n",
    "    \"\"\"Base class for other exceptions\"\"\"\n",
    "\n",
    "    pass\n",
    "\n",
    "\n",
    "# Heirarchical\n",
    "class NumberSmallError(Error):\n",
    "    \"\"\"Raised when the input value is too small\"\"\"\n",
    "    pass\n",
    "\n",
    "\n",
    "class NumberBigError(Error):\n",
    "    \"\"\"Raised when the input value is too large\"\"\"\n",
    "    pass\n",
    "\n",
    "\n",
    "number = 10\n",
    "\n",
    "while True:\n",
    "    try:\n",
    "\n",
    "        i_num = int(input(\"Enter a number: \"))\n",
    "\n",
    "        if i_num < number:\n",
    "\n",
    "            raise NumberSmallError\n",
    "\n",
    "        elif i_num > number:\n",
    "\n",
    "            raise NumberBigError\n",
    "\n",
    "        break\n",
    "\n",
    "    except NumberSmallError:\n",
    "\n",
    "        print(\"This value is too small, try again!\")\n",
    "\n",
    "        print()\n",
    "\n",
    "    except NumberBigError:\n",
    "\n",
    "        print(\"This value is too large, try again!\")\n",
    "\n",
    "        print()\n",
    "\n",
    "print(\"Congratulations! You guessed it correctly.\")\n",
    "\n",
    "# Sample Output :\n",
    "# Enter a number: 12\n",
    "# This value is too large, try again!\n",
    "\n",
    "# Enter a number: 8\n",
    "# This value is too small, try again!\n",
    "\n",
    "# Enter a number: 10\n",
    "# Congratulations! You guessed it correctly."
   ]
  },
  {
   "cell_type": "code",
   "execution_count": 2,
   "id": "530d0568",
   "metadata": {},
   "outputs": [
    {
     "name": "stdout",
     "output_type": "stream",
     "text": [
      "Second Element :  3\n",
      "list index out of range\n",
      "Index Error Occured.\n",
      "Value Error Occurred.\n",
      "Arithmetic Error Occurred\n",
      "0 3.0\n",
      "1 9.0\n",
      "2 81.0\n",
      "3 6561.0\n",
      "4 43046721.0\n",
      "5 1853020188851841.0\n",
      "6 3.4336838202925124e+30\n",
      "7 1.1790184577738583e+61\n",
      "8 1.3900845237714473e+122\n",
      "9 1.9323349832288915e+244\n",
      "Overflow Error Occurred\n",
      "Import Error Occured\n",
      "The argument does not contain numbers xyz\n",
      "before\n",
      "in exception block\n",
      "Error: can't find file or read data\n",
      "else block\n",
      "File Close\n"
     ]
    },
    {
     "data": {
      "text/plain": [
       "\"\\n\\nSyntaxErrors-IndentationErrors get raised when the file/code is parsed, not when that line of code is executed.\\nIf the syntax is wrong at a single point in the code,\\nthe parser can't continue so all code after that line is un-parseable.\\n\\nIn other words, you can only catch syntax errors when python is trying to parse something.\\nThis includes exec, eval, import:\\n\\n\\tfor i range(0,10,1):\\n\\t\\t\\t  ^\\nSyntaxError: invalid syntax\\n\\n\\n\\tfor i in range(0, 10, 1):\\n\\nprint i\\n\\t   ^\\nIndentationError: expected an indented block\\n\\n\""
      ]
     },
     "execution_count": 2,
     "metadata": {},
     "output_type": "execute_result"
    }
   ],
   "source": [
    "# BaseException is the parent class of all child exception classes.\n",
    "# BaseException=>Exception=>Built-In Child Classes\n",
    "# Built-In Child Classes\n",
    "# Custom Exception Class\n",
    "\n",
    "try:\n",
    "    # actual source code/business logic\n",
    "    a = [1, 2, 3, 4]\n",
    "    print('Second Element : ', a[2])\n",
    "    print('Fourth Element : ', a[4])\n",
    "    print('Zero Element   : ', a[0])\n",
    "\n",
    "except IndexError as ex:\n",
    "    # error handling source code\n",
    "    # custom function call\n",
    "    # custom message\n",
    "    print(ex)\n",
    "    print('Index Error Occured.')\n",
    "\n",
    "try:\n",
    "    n = input(int('Enter Integer : '))\n",
    "    print(n)\n",
    "\n",
    "except ValueError:\n",
    "    print('Value Error Occurred.')\n",
    "\n",
    "try:\n",
    "    a = 10\n",
    "    b = 0\n",
    "    c = a / b\n",
    "\n",
    "except ArithmeticError:\n",
    "\n",
    "    print('Arithmetic Error Occurred')\n",
    "\n",
    "try:\n",
    "    i = 1\n",
    "    f = 3.0 ** i\n",
    "    for i in range(100):\n",
    "        print(i, f)\n",
    "        f = f ** 2\n",
    "\n",
    "except OverflowError:\n",
    "\n",
    "    print(\"Overflow Error Occurred\")\n",
    "\n",
    "try:\n",
    "\n",
    "    from sortingfile import sorting2\n",
    "\n",
    "except ImportError:\n",
    "\n",
    "    print('Import Error Occured')\n",
    "\n",
    "\n",
    "def temp_convert(var):\n",
    "    try:\n",
    "\n",
    "        return int(var)\n",
    "\n",
    "    except ValueError:\n",
    "\n",
    "        print(\"The argument does not contain numbers\", var)\n",
    "\n",
    "\n",
    "temp_convert(\"xyz\")\n",
    "\n",
    "try:\n",
    "    print(\"before\")\n",
    "    fh = open(\"testfile\", \"r\")\n",
    "    print(\"try1 \")\n",
    "    try:\n",
    "        print(\"try2\")\n",
    "        fh.write(\"This is my test file for exception handling!!\")\n",
    "        print(\"data write done\")\n",
    "    finally:\n",
    "        print(\"in finally\")\n",
    "        # custom logic or message\n",
    "        print(\"File Close\")\n",
    "        fh.close()\n",
    "\n",
    "except IOError:\n",
    "    print(\"in exception block\")\n",
    "    print(\"Error: can\\'t find file or read data\")\n",
    "\n",
    "try:\n",
    "    fh = open(\"testfile\", \"w\")\n",
    "    fh.write(\"This is my test file for exception handling!!\")\n",
    "\n",
    "except IOError:\n",
    "    print(\"not in else\")\n",
    "    print(\"Error: can\\'t find file or read data\")\n",
    "\n",
    "else:\n",
    "    #if try block logic run successfully\n",
    "    print(\"else block\")\n",
    "    print(\"File Close\")\n",
    "    fh.close()\n",
    "\n",
    "'''\n",
    "\n",
    "SyntaxErrors-IndentationErrors get raised when the file/code is parsed, not when that line of code is executed.\n",
    "If the syntax is wrong at a single point in the code,\n",
    "the parser can't continue so all code after that line is un-parseable.\n",
    "\n",
    "In other words, you can only catch syntax errors when python is trying to parse something.\n",
    "This includes exec, eval, import:\n",
    "\n",
    "\tfor i range(0,10,1):\n",
    "\t\t\t  ^\n",
    "SyntaxError: invalid syntax\n",
    "\n",
    "\n",
    "\tfor i in range(0, 10, 1):\n",
    "\n",
    "print i\n",
    "\t   ^\n",
    "IndentationError: expected an indented block\n",
    "\n",
    "'''"
   ]
  },
  {
   "cell_type": "code",
   "execution_count": null,
   "id": "af27f1dd",
   "metadata": {},
   "outputs": [],
   "source": []
  },
  {
   "cell_type": "code",
   "execution_count": null,
   "id": "44d0281c",
   "metadata": {},
   "outputs": [],
   "source": []
  }
 ],
 "metadata": {
  "kernelspec": {
   "display_name": "Python 3",
   "language": "python",
   "name": "python3"
  },
  "language_info": {
   "codemirror_mode": {
    "name": "ipython",
    "version": 3
   },
   "file_extension": ".py",
   "mimetype": "text/x-python",
   "name": "python",
   "nbconvert_exporter": "python",
   "pygments_lexer": "ipython3",
   "version": "3.8.8"
  }
 },
 "nbformat": 4,
 "nbformat_minor": 5
}
