{
 "cells": [
  {
   "cell_type": "markdown",
   "id": "3bb6b89f",
   "metadata": {},
   "source": [
    "## 02/06/21\n",
    "\n",
    "### User defined functions"
   ]
  },
  {
   "cell_type": "code",
   "execution_count": 1,
   "id": "dd9011e9",
   "metadata": {},
   "outputs": [
    {
     "name": "stdout",
     "output_type": "stream",
     "text": [
      "softvan\n"
     ]
    }
   ],
   "source": [
    "# no argument no return value\n",
    "def message():\n",
    "    print(\"softvan\")\n",
    "    \n",
    "message()"
   ]
  },
  {
   "cell_type": "code",
   "execution_count": 2,
   "id": "ddbd01bc",
   "metadata": {},
   "outputs": [
    {
     "name": "stdout",
     "output_type": "stream",
     "text": [
      "softvan\n"
     ]
    }
   ],
   "source": [
    "# with argument\n",
    "def fn1(a):\n",
    "    print(a)\n",
    "    \n",
    "fn1(\"softvan\")"
   ]
  },
  {
   "cell_type": "markdown",
   "id": "f115f457",
   "metadata": {},
   "source": [
    "### Types of functional arguments"
   ]
  },
  {
   "cell_type": "code",
   "execution_count": 3,
   "id": "98fd6e37",
   "metadata": {},
   "outputs": [
    {
     "name": "stdout",
     "output_type": "stream",
     "text": [
      "30\n"
     ]
    }
   ],
   "source": [
    "#Required arguments:\n",
    "\n",
    "def fn1(a,b):\n",
    "    c=a+b\n",
    "    return c\n",
    "\n",
    "answer=fn1(10,20)\n",
    "print(answer)"
   ]
  },
  {
   "cell_type": "code",
   "execution_count": 6,
   "id": "cd8a4bfc",
   "metadata": {},
   "outputs": [
    {
     "name": "stdout",
     "output_type": "stream",
     "text": [
      "name=  Nimesh\n",
      "total=  187\n"
     ]
    }
   ],
   "source": [
    "# Keyword argument\n",
    "\n",
    "def fn2(name,marks_one,marks_two):\n",
    "    print(\"name= \",name)\n",
    "    print(\"total= \",marks_one+marks_two)\n",
    "\n",
    "fn2(name=\"abc\", marks_one=99, marks_two=88)"
   ]
  },
  {
   "cell_type": "code",
   "execution_count": 9,
   "id": "8b83322c",
   "metadata": {},
   "outputs": [
    {
     "name": "stdout",
     "output_type": "stream",
     "text": [
      "Name= Harshal\n",
      "Marks= 90\n"
     ]
    }
   ],
   "source": [
    "# Default Argument\n",
    "\n",
    "def fn3(name,marks=35):\n",
    "    print(\"Name=\",name)\n",
    "    print(\"Marks=\",marks)\n",
    "    \n",
    "fn3(marks=90, name=\"abc\")"
   ]
  },
  {
   "cell_type": "code",
   "execution_count": 11,
   "id": "d591cdff",
   "metadata": {},
   "outputs": [
    {
     "name": "stdout",
     "output_type": "stream",
     "text": [
      "<class 'tuple'>\n",
      "()\n",
      "<class 'tuple'>\n",
      "(50,)\n",
      "<class 'tuple'>\n",
      "('pqr', 99, 'abc', 'xyz', 9.0, 'softvan')\n",
      "<function fn4 at 0x0000016544CB1CA0>\n"
     ]
    }
   ],
   "source": [
    "# Variable-length argument\n",
    "\n",
    "def fn4(*tuple_var):\n",
    "    print(type(tuple_var))\n",
    "    print(tuple_var)\n",
    "    \n",
    "fn4()    \n",
    "fn4(50)\n",
    "fn4(\"pqr\",99,\"abc\",\"xyz\",9.0,\"softvan\")\n",
    "\n",
    "print(fn4)"
   ]
  },
  {
   "cell_type": "code",
   "execution_count": 12,
   "id": "021abaae",
   "metadata": {},
   "outputs": [
    {
     "name": "stdout",
     "output_type": "stream",
     "text": [
      "{'fn': 'abc', 'ln': 'xyz', 'marks': 90, 'average': 9.0}\n",
      "<class 'dict'>\n",
      "fn = abc\n",
      "ln = xyz\n",
      "marks = 90\n",
      "average = 9.0\n",
      "120\n"
     ]
    }
   ],
   "source": [
    "# Dictionary arguments\n",
    "\n",
    "def fn5(**std):\n",
    "    print(std)\n",
    "    print(type(std))\n",
    "    if std is not None:\n",
    "        for key, value in std.items():\n",
    "            print(\"%s = %s\" % (key, value))\n",
    "\n",
    "fn5(fn='abc', ln='xyz', marks=90, average=9.0)\n",
    "\n",
    "def fn6(n):\n",
    "    if n == 1:\n",
    "        return 1\n",
    "    else:\n",
    "        return n * fn6(n - 1)\n",
    "n = 5\n",
    "print(fn6(n))"
   ]
  },
  {
   "cell_type": "code",
   "execution_count": 14,
   "id": "3d4a0a23",
   "metadata": {},
   "outputs": [
    {
     "name": "stdout",
     "output_type": "stream",
     "text": [
      "225\n",
      "40\n",
      "[2, 4, 6, 8, 10]\n",
      "[2, 4]\n"
     ]
    }
   ],
   "source": [
    "# lambda function=>anonymous function\n",
    "\"\"\"\n",
    "to execute your single line business logic\n",
    "\"\"\"\n",
    "square = lambda x: x * x\n",
    "print(square(15))\n",
    "\n",
    "addition = lambda x, y: x + y\n",
    "print(addition(15, 25))\n",
    "old_list = [1, 2, 3, 4, 5]\n",
    "\n",
    "new_list = list(map(lambda x: x * 2, old_list))\n",
    "print(new_list)\n",
    "\n",
    "old_list = [1, 2, 3, 4, 5]\n",
    "new_list = list(filter(lambda x: (x % 2 == 0), old_list))\n",
    "print(new_list)"
   ]
  },
  {
   "cell_type": "code",
   "execution_count": null,
   "id": "da908eac",
   "metadata": {},
   "outputs": [],
   "source": []
  },
  {
   "cell_type": "code",
   "execution_count": null,
   "id": "714d7950",
   "metadata": {},
   "outputs": [],
   "source": []
  }
 ],
 "metadata": {
  "kernelspec": {
   "display_name": "Python 3",
   "language": "python",
   "name": "python3"
  },
  "language_info": {
   "codemirror_mode": {
    "name": "ipython",
    "version": 3
   },
   "file_extension": ".py",
   "mimetype": "text/x-python",
   "name": "python",
   "nbconvert_exporter": "python",
   "pygments_lexer": "ipython3",
   "version": "3.8.8"
  }
 },
 "nbformat": 4,
 "nbformat_minor": 5
}
